{
 "cells": [
  {
   "cell_type": "code",
   "execution_count": 1,
   "id": "guided-print",
   "metadata": {},
   "outputs": [],
   "source": [
    "import pandas as pd\n",
    "import numpy as np\n",
    "import plotly.express as px\n",
    "import statsmodels.api as sms"
   ]
  },
  {
   "cell_type": "code",
   "execution_count": 2,
   "id": "scenic-manner",
   "metadata": {},
   "outputs": [
    {
     "data": {
      "text/html": [
       "<div>\n",
       "<style scoped>\n",
       "    .dataframe tbody tr th:only-of-type {\n",
       "        vertical-align: middle;\n",
       "    }\n",
       "\n",
       "    .dataframe tbody tr th {\n",
       "        vertical-align: top;\n",
       "    }\n",
       "\n",
       "    .dataframe thead th {\n",
       "        text-align: right;\n",
       "    }\n",
       "</style>\n",
       "<table border=\"1\" class=\"dataframe\">\n",
       "  <thead>\n",
       "    <tr style=\"text-align: right;\">\n",
       "      <th></th>\n",
       "      <th>Month</th>\n",
       "      <th>Thousands of Passengers</th>\n",
       "    </tr>\n",
       "  </thead>\n",
       "  <tbody>\n",
       "    <tr>\n",
       "      <th>0</th>\n",
       "      <td>1949-01</td>\n",
       "      <td>112.0</td>\n",
       "    </tr>\n",
       "    <tr>\n",
       "      <th>1</th>\n",
       "      <td>1949-02</td>\n",
       "      <td>118.0</td>\n",
       "    </tr>\n",
       "    <tr>\n",
       "      <th>2</th>\n",
       "      <td>1949-03</td>\n",
       "      <td>132.0</td>\n",
       "    </tr>\n",
       "    <tr>\n",
       "      <th>3</th>\n",
       "      <td>1949-04</td>\n",
       "      <td>129.0</td>\n",
       "    </tr>\n",
       "    <tr>\n",
       "      <th>4</th>\n",
       "      <td>1949-05</td>\n",
       "      <td>121.0</td>\n",
       "    </tr>\n",
       "  </tbody>\n",
       "</table>\n",
       "</div>"
      ],
      "text/plain": [
       "     Month  Thousands of Passengers\n",
       "0  1949-01                    112.0\n",
       "1  1949-02                    118.0\n",
       "2  1949-03                    132.0\n",
       "3  1949-04                    129.0\n",
       "4  1949-05                    121.0"
      ]
     },
     "execution_count": 2,
     "metadata": {},
     "output_type": "execute_result"
    }
   ],
   "source": [
    "data_pass = pd.read_csv(\"https://raw.githubusercontent.com/krishnaik06/Live-Time-Series/main/airline_passengers.csv\")\n",
    "data_pass.head()"
   ]
  },
  {
   "cell_type": "code",
   "execution_count": 3,
   "id": "amended-composition",
   "metadata": {},
   "outputs": [
    {
     "data": {
      "text/plain": [
       "Month                      0\n",
       "Thousands of Passengers    1\n",
       "dtype: int64"
      ]
     },
     "execution_count": 3,
     "metadata": {},
     "output_type": "execute_result"
    }
   ],
   "source": [
    "data_pass.isna().sum()"
   ]
  },
  {
   "cell_type": "code",
   "execution_count": 4,
   "id": "julian-imaging",
   "metadata": {},
   "outputs": [
    {
     "data": {
      "text/html": [
       "<div>\n",
       "<style scoped>\n",
       "    .dataframe tbody tr th:only-of-type {\n",
       "        vertical-align: middle;\n",
       "    }\n",
       "\n",
       "    .dataframe tbody tr th {\n",
       "        vertical-align: top;\n",
       "    }\n",
       "\n",
       "    .dataframe thead th {\n",
       "        text-align: right;\n",
       "    }\n",
       "</style>\n",
       "<table border=\"1\" class=\"dataframe\">\n",
       "  <thead>\n",
       "    <tr style=\"text-align: right;\">\n",
       "      <th></th>\n",
       "      <th>Month</th>\n",
       "      <th>Thousands of Passengers</th>\n",
       "    </tr>\n",
       "  </thead>\n",
       "  <tbody>\n",
       "    <tr>\n",
       "      <th>144</th>\n",
       "      <td>International airline passengers: monthly tota...</td>\n",
       "      <td>NaN</td>\n",
       "    </tr>\n",
       "  </tbody>\n",
       "</table>\n",
       "</div>"
      ],
      "text/plain": [
       "                                                 Month  \\\n",
       "144  International airline passengers: monthly tota...   \n",
       "\n",
       "     Thousands of Passengers  \n",
       "144                      NaN  "
      ]
     },
     "execution_count": 4,
     "metadata": {},
     "output_type": "execute_result"
    }
   ],
   "source": [
    "data_pass[data_pass.isna().any(axis=1)]"
   ]
  },
  {
   "cell_type": "code",
   "execution_count": 5,
   "id": "studied-devices",
   "metadata": {},
   "outputs": [],
   "source": [
    "data_pass.dropna(inplace=True)\n",
    "data_pass.reset_index(inplace=True,drop=True)"
   ]
  },
  {
   "cell_type": "code",
   "execution_count": 6,
   "id": "pointed-dryer",
   "metadata": {},
   "outputs": [
    {
     "data": {
      "text/plain": [
       "(144, 2)"
      ]
     },
     "execution_count": 6,
     "metadata": {},
     "output_type": "execute_result"
    }
   ],
   "source": [
    "data_pass.shape"
   ]
  },
  {
   "cell_type": "code",
   "execution_count": 7,
   "id": "iraqi-albania",
   "metadata": {},
   "outputs": [
    {
     "data": {
      "text/html": [
       "<div>\n",
       "<style scoped>\n",
       "    .dataframe tbody tr th:only-of-type {\n",
       "        vertical-align: middle;\n",
       "    }\n",
       "\n",
       "    .dataframe tbody tr th {\n",
       "        vertical-align: top;\n",
       "    }\n",
       "\n",
       "    .dataframe thead th {\n",
       "        text-align: right;\n",
       "    }\n",
       "</style>\n",
       "<table border=\"1\" class=\"dataframe\">\n",
       "  <thead>\n",
       "    <tr style=\"text-align: right;\">\n",
       "      <th></th>\n",
       "      <th>Month</th>\n",
       "      <th>Thousands of Passengers</th>\n",
       "    </tr>\n",
       "  </thead>\n",
       "  <tbody>\n",
       "    <tr>\n",
       "      <th>0</th>\n",
       "      <td>1949-01</td>\n",
       "      <td>112.0</td>\n",
       "    </tr>\n",
       "    <tr>\n",
       "      <th>1</th>\n",
       "      <td>1949-02</td>\n",
       "      <td>118.0</td>\n",
       "    </tr>\n",
       "    <tr>\n",
       "      <th>2</th>\n",
       "      <td>1949-03</td>\n",
       "      <td>132.0</td>\n",
       "    </tr>\n",
       "    <tr>\n",
       "      <th>3</th>\n",
       "      <td>1949-04</td>\n",
       "      <td>129.0</td>\n",
       "    </tr>\n",
       "    <tr>\n",
       "      <th>4</th>\n",
       "      <td>1949-05</td>\n",
       "      <td>121.0</td>\n",
       "    </tr>\n",
       "  </tbody>\n",
       "</table>\n",
       "</div>"
      ],
      "text/plain": [
       "     Month  Thousands of Passengers\n",
       "0  1949-01                    112.0\n",
       "1  1949-02                    118.0\n",
       "2  1949-03                    132.0\n",
       "3  1949-04                    129.0\n",
       "4  1949-05                    121.0"
      ]
     },
     "execution_count": 7,
     "metadata": {},
     "output_type": "execute_result"
    }
   ],
   "source": [
    "data_pass.head()"
   ]
  },
  {
   "cell_type": "code",
   "execution_count": 8,
   "id": "regulated-geometry",
   "metadata": {},
   "outputs": [
    {
     "name": "stdout",
     "output_type": "stream",
     "text": [
      "<class 'pandas.core.frame.DataFrame'>\n",
      "RangeIndex: 144 entries, 0 to 143\n",
      "Data columns (total 2 columns):\n",
      " #   Column                   Non-Null Count  Dtype  \n",
      "---  ------                   --------------  -----  \n",
      " 0   Month                    144 non-null    object \n",
      " 1   Thousands of Passengers  144 non-null    float64\n",
      "dtypes: float64(1), object(1)\n",
      "memory usage: 2.4+ KB\n"
     ]
    }
   ],
   "source": [
    "data_pass.info()"
   ]
  },
  {
   "cell_type": "code",
   "execution_count": 9,
   "id": "proof-effort",
   "metadata": {},
   "outputs": [
    {
     "name": "stdout",
     "output_type": "stream",
     "text": [
      "<class 'pandas.core.frame.DataFrame'>\n",
      "RangeIndex: 144 entries, 0 to 143\n",
      "Data columns (total 2 columns):\n",
      " #   Column                   Non-Null Count  Dtype         \n",
      "---  ------                   --------------  -----         \n",
      " 0   Month                    144 non-null    datetime64[ns]\n",
      " 1   Thousands of Passengers  144 non-null    float64       \n",
      "dtypes: datetime64[ns](1), float64(1)\n",
      "memory usage: 2.4 KB\n"
     ]
    }
   ],
   "source": [
    "data_pass[\"Month\"] = pd.to_datetime(data_pass[\"Month\"])\n",
    "data_pass.info()"
   ]
  },
  {
   "cell_type": "code",
   "execution_count": 10,
   "id": "advance-illustration",
   "metadata": {},
   "outputs": [
    {
     "data": {
      "text/html": [
       "<div>\n",
       "<style scoped>\n",
       "    .dataframe tbody tr th:only-of-type {\n",
       "        vertical-align: middle;\n",
       "    }\n",
       "\n",
       "    .dataframe tbody tr th {\n",
       "        vertical-align: top;\n",
       "    }\n",
       "\n",
       "    .dataframe thead th {\n",
       "        text-align: right;\n",
       "    }\n",
       "</style>\n",
       "<table border=\"1\" class=\"dataframe\">\n",
       "  <thead>\n",
       "    <tr style=\"text-align: right;\">\n",
       "      <th></th>\n",
       "      <th>Thousands of Passengers</th>\n",
       "    </tr>\n",
       "    <tr>\n",
       "      <th>Month</th>\n",
       "      <th></th>\n",
       "    </tr>\n",
       "  </thead>\n",
       "  <tbody>\n",
       "    <tr>\n",
       "      <th>1949-01-01</th>\n",
       "      <td>112.0</td>\n",
       "    </tr>\n",
       "    <tr>\n",
       "      <th>1949-02-01</th>\n",
       "      <td>118.0</td>\n",
       "    </tr>\n",
       "    <tr>\n",
       "      <th>1949-03-01</th>\n",
       "      <td>132.0</td>\n",
       "    </tr>\n",
       "    <tr>\n",
       "      <th>1949-04-01</th>\n",
       "      <td>129.0</td>\n",
       "    </tr>\n",
       "    <tr>\n",
       "      <th>1949-05-01</th>\n",
       "      <td>121.0</td>\n",
       "    </tr>\n",
       "  </tbody>\n",
       "</table>\n",
       "</div>"
      ],
      "text/plain": [
       "            Thousands of Passengers\n",
       "Month                              \n",
       "1949-01-01                    112.0\n",
       "1949-02-01                    118.0\n",
       "1949-03-01                    132.0\n",
       "1949-04-01                    129.0\n",
       "1949-05-01                    121.0"
      ]
     },
     "execution_count": 10,
     "metadata": {},
     "output_type": "execute_result"
    }
   ],
   "source": [
    "data_pass = data_pass.set_index(\"Month\")\n",
    "data_pass.head()"
   ]
  },
  {
   "cell_type": "code",
   "execution_count": 11,
   "id": "czech-library",
   "metadata": {},
   "outputs": [
    {
     "data": {
      "text/plain": [
       "<AxesSubplot:xlabel='Month'>"
      ]
     },
     "execution_count": 11,
     "metadata": {},
     "output_type": "execute_result"
    },
    {
     "data": {
      "image/png": "[encoded data removed]",
      "text/plain": [
       "<Figure size 864x360 with 1 Axes>"
      ]
     },
     "metadata": {
      "needs_background": "light"
     },
     "output_type": "display_data"
    }
   ],
   "source": [
    "data_pass.plot(figsize=(12,5))"
   ]
  },
  {
   "cell_type": "markdown",
   "id": "addressed-spencer",
   "metadata": {},
   "source": [
    "### [click here](https://www.youtube.com/watch?v=NzSyQcJ9NeE)\n",
    "\n",
    "look at the first 26 min to understand **AUTO REGRESSOR**\n",
    "1. TO FIND K VALUE WE USE PACF IN **AUTO REGRESSOR**\n",
    "\n",
    "\n",
    "**ARIMA -- > USED FOR THE STATIONARY DATA**\n",
    "\n",
    "\n",
    "1. CHECK THE DATA IS STATIONARY OR NOT by using point 2\n",
    "2. DOING HYPOTHESIS TEST --> NAME OF TEST IS DIKICIy FULLer TEST\n",
    "    1. IF TH VALUE OF **unit root** IS > 1 DATA IS NOT STATIONARY\n",
    "    2. IF THE VALUE **unit root** IS < 1 DATA IS STATIONARY\n",
    "    \n",
    "    \n",
    "    \n",
    "**GUIDE LINES FOR STATIONARY DATA**\n",
    "1. MEAN SHOULD BE CONSTANT\n",
    "2. STD SHOULD BE CONSTANT\n",
    "THE ABOVE HDATA IS NOT STATONARY\n",
    "\n",
    "**TO MAKE THOSE DATA STATIONARY WE USE SOMEHING DIFFERENCING** \n",
    "\n",
    "**using shift function**"
   ]
  },
  {
   "cell_type": "code",
   "execution_count": 12,
   "id": "informative-deputy",
   "metadata": {},
   "outputs": [],
   "source": [
    "from statsmodels.tsa.stattools import adfuller"
   ]
  },
  {
   "cell_type": "code",
   "execution_count": 13,
   "id": "outstanding-apparatus",
   "metadata": {},
   "outputs": [],
   "source": [
    "def diccky_fuller(series):\n",
    "    result = adfuller(series)\n",
    "    print(f'statistical_value : {result[0]}')\n",
    "    print(f'p_value : {result[1]}')\n",
    "    if result[1] <= 0.05:\n",
    "        print(\"strong evidence against the null hypothesis, reject the null hypothesis. Data has no unit root and is stationary\")\n",
    "    else:\n",
    "        print(\"weak evidence against null hypothesis, time series has a unit root, indicating it is non-stationary \")"
   ]
  },
  {
   "cell_type": "code",
   "execution_count": 14,
   "id": "careful-prime",
   "metadata": {},
   "outputs": [
    {
     "name": "stdout",
     "output_type": "stream",
     "text": [
      "statistical_value : 0.8153688792060569\n",
      "p_value : 0.9918802434376411\n",
      "weak evidence against null hypothesis, time series has a unit root, indicating it is non-stationary \n"
     ]
    }
   ],
   "source": [
    "diccky_fuller(data_pass[\"Thousands of Passengers\"])"
   ]
  },
  {
   "cell_type": "markdown",
   "id": "posted-values",
   "metadata": {},
   "source": [
    "### look above it rejected the alternative hypothesis because the data is not stationary\n",
    "\n",
    "### lets do difference and lets see the data will be stationary"
   ]
  },
  {
   "cell_type": "code",
   "execution_count": 15,
   "id": "strategic-grace",
   "metadata": {},
   "outputs": [
    {
     "data": {
      "text/html": [
       "<div>\n",
       "<style scoped>\n",
       "    .dataframe tbody tr th:only-of-type {\n",
       "        vertical-align: middle;\n",
       "    }\n",
       "\n",
       "    .dataframe tbody tr th {\n",
       "        vertical-align: top;\n",
       "    }\n",
       "\n",
       "    .dataframe thead th {\n",
       "        text-align: right;\n",
       "    }\n",
       "</style>\n",
       "<table border=\"1\" class=\"dataframe\">\n",
       "  <thead>\n",
       "    <tr style=\"text-align: right;\">\n",
       "      <th></th>\n",
       "      <th>Thousands of Passengers</th>\n",
       "      <th>difference_shift_data_1</th>\n",
       "    </tr>\n",
       "    <tr>\n",
       "      <th>Month</th>\n",
       "      <th></th>\n",
       "      <th></th>\n",
       "    </tr>\n",
       "  </thead>\n",
       "  <tbody>\n",
       "    <tr>\n",
       "      <th>1949-01-01</th>\n",
       "      <td>112.0</td>\n",
       "      <td>NaN</td>\n",
       "    </tr>\n",
       "    <tr>\n",
       "      <th>1949-02-01</th>\n",
       "      <td>118.0</td>\n",
       "      <td>6.0</td>\n",
       "    </tr>\n",
       "    <tr>\n",
       "      <th>1949-03-01</th>\n",
       "      <td>132.0</td>\n",
       "      <td>14.0</td>\n",
       "    </tr>\n",
       "    <tr>\n",
       "      <th>1949-04-01</th>\n",
       "      <td>129.0</td>\n",
       "      <td>-3.0</td>\n",
       "    </tr>\n",
       "    <tr>\n",
       "      <th>1949-05-01</th>\n",
       "      <td>121.0</td>\n",
       "      <td>-8.0</td>\n",
       "    </tr>\n",
       "  </tbody>\n",
       "</table>\n",
       "</div>"
      ],
      "text/plain": [
       "            Thousands of Passengers  difference_shift_data_1\n",
       "Month                                                       \n",
       "1949-01-01                    112.0                      NaN\n",
       "1949-02-01                    118.0                      6.0\n",
       "1949-03-01                    132.0                     14.0\n",
       "1949-04-01                    129.0                     -3.0\n",
       "1949-05-01                    121.0                     -8.0"
      ]
     },
     "execution_count": 15,
     "metadata": {},
     "output_type": "execute_result"
    }
   ],
   "source": [
    "data_pass[\"difference_shift_data_1\"]  = data_pass[\"Thousands of Passengers\"] - data_pass[\"Thousands of Passengers\"].shift(1)\n",
    "data_pass.head()"
   ]
  },
  {
   "cell_type": "code",
   "execution_count": 16,
   "id": "outstanding-conditions",
   "metadata": {},
   "outputs": [
    {
     "name": "stdout",
     "output_type": "stream",
     "text": [
      "statistical_value : -2.8292668241699928\n",
      "p_value : 0.05421329028382636\n",
      "weak evidence against null hypothesis, time series has a unit root, indicating it is non-stationary \n"
     ]
    }
   ],
   "source": [
    "diccky_fuller(data_pass[\"difference_shift_data_1\"].dropna())"
   ]
  },
  {
   "cell_type": "markdown",
   "id": "collaborative-shadow",
   "metadata": {},
   "source": [
    "### look above it rejected the alternative hypothesis because the data is not stationary\n",
    "### lets do difference and lets see the data will be stationary\n",
    "### for 1 shift the data is not so lets try for 12"
   ]
  },
  {
   "cell_type": "code",
   "execution_count": 17,
   "id": "english-selling",
   "metadata": {},
   "outputs": [
    {
     "data": {
      "text/html": [
       "<div>\n",
       "<style scoped>\n",
       "    .dataframe tbody tr th:only-of-type {\n",
       "        vertical-align: middle;\n",
       "    }\n",
       "\n",
       "    .dataframe tbody tr th {\n",
       "        vertical-align: top;\n",
       "    }\n",
       "\n",
       "    .dataframe thead th {\n",
       "        text-align: right;\n",
       "    }\n",
       "</style>\n",
       "<table border=\"1\" class=\"dataframe\">\n",
       "  <thead>\n",
       "    <tr style=\"text-align: right;\">\n",
       "      <th></th>\n",
       "      <th>Thousands of Passengers</th>\n",
       "      <th>difference_shift_data_1</th>\n",
       "      <th>difference_shift_data_12</th>\n",
       "    </tr>\n",
       "    <tr>\n",
       "      <th>Month</th>\n",
       "      <th></th>\n",
       "      <th></th>\n",
       "      <th></th>\n",
       "    </tr>\n",
       "  </thead>\n",
       "  <tbody>\n",
       "    <tr>\n",
       "      <th>1949-01-01</th>\n",
       "      <td>112.0</td>\n",
       "      <td>NaN</td>\n",
       "      <td>NaN</td>\n",
       "    </tr>\n",
       "    <tr>\n",
       "      <th>1949-02-01</th>\n",
       "      <td>118.0</td>\n",
       "      <td>6.0</td>\n",
       "      <td>NaN</td>\n",
       "    </tr>\n",
       "    <tr>\n",
       "      <th>1949-03-01</th>\n",
       "      <td>132.0</td>\n",
       "      <td>14.0</td>\n",
       "      <td>NaN</td>\n",
       "    </tr>\n",
       "    <tr>\n",
       "      <th>1949-04-01</th>\n",
       "      <td>129.0</td>\n",
       "      <td>-3.0</td>\n",
       "      <td>NaN</td>\n",
       "    </tr>\n",
       "    <tr>\n",
       "      <th>1949-05-01</th>\n",
       "      <td>121.0</td>\n",
       "      <td>-8.0</td>\n",
       "      <td>NaN</td>\n",
       "    </tr>\n",
       "  </tbody>\n",
       "</table>\n",
       "</div>"
      ],
      "text/plain": [
       "            Thousands of Passengers  difference_shift_data_1  \\\n",
       "Month                                                          \n",
       "1949-01-01                    112.0                      NaN   \n",
       "1949-02-01                    118.0                      6.0   \n",
       "1949-03-01                    132.0                     14.0   \n",
       "1949-04-01                    129.0                     -3.0   \n",
       "1949-05-01                    121.0                     -8.0   \n",
       "\n",
       "            difference_shift_data_12  \n",
       "Month                                 \n",
       "1949-01-01                       NaN  \n",
       "1949-02-01                       NaN  \n",
       "1949-03-01                       NaN  \n",
       "1949-04-01                       NaN  \n",
       "1949-05-01                       NaN  "
      ]
     },
     "execution_count": 17,
     "metadata": {},
     "output_type": "execute_result"
    }
   ],
   "source": [
    "data_pass[\"difference_shift_data_12\"]  = data_pass[\"Thousands of Passengers\"] - data_pass[\"Thousands of Passengers\"].shift(12)\n",
    "data_pass.head()"
   ]
  },
  {
   "cell_type": "code",
   "execution_count": 18,
   "id": "judicial-death",
   "metadata": {},
   "outputs": [
    {
     "data": {
      "text/html": [
       "<div>\n",
       "<style scoped>\n",
       "    .dataframe tbody tr th:only-of-type {\n",
       "        vertical-align: middle;\n",
       "    }\n",
       "\n",
       "    .dataframe tbody tr th {\n",
       "        vertical-align: top;\n",
       "    }\n",
       "\n",
       "    .dataframe thead th {\n",
       "        text-align: right;\n",
       "    }\n",
       "</style>\n",
       "<table border=\"1\" class=\"dataframe\">\n",
       "  <thead>\n",
       "    <tr style=\"text-align: right;\">\n",
       "      <th></th>\n",
       "      <th>Thousands of Passengers</th>\n",
       "      <th>difference_shift_data_1</th>\n",
       "      <th>difference_shift_data_12</th>\n",
       "      <th>difference_shift_data_2</th>\n",
       "    </tr>\n",
       "    <tr>\n",
       "      <th>Month</th>\n",
       "      <th></th>\n",
       "      <th></th>\n",
       "      <th></th>\n",
       "      <th></th>\n",
       "    </tr>\n",
       "  </thead>\n",
       "  <tbody>\n",
       "    <tr>\n",
       "      <th>1949-01-01</th>\n",
       "      <td>112.0</td>\n",
       "      <td>NaN</td>\n",
       "      <td>NaN</td>\n",
       "      <td>NaN</td>\n",
       "    </tr>\n",
       "    <tr>\n",
       "      <th>1949-02-01</th>\n",
       "      <td>118.0</td>\n",
       "      <td>6.0</td>\n",
       "      <td>NaN</td>\n",
       "      <td>NaN</td>\n",
       "    </tr>\n",
       "    <tr>\n",
       "      <th>1949-03-01</th>\n",
       "      <td>132.0</td>\n",
       "      <td>14.0</td>\n",
       "      <td>NaN</td>\n",
       "      <td>8.0</td>\n",
       "    </tr>\n",
       "    <tr>\n",
       "      <th>1949-04-01</th>\n",
       "      <td>129.0</td>\n",
       "      <td>-3.0</td>\n",
       "      <td>NaN</td>\n",
       "      <td>-17.0</td>\n",
       "    </tr>\n",
       "    <tr>\n",
       "      <th>1949-05-01</th>\n",
       "      <td>121.0</td>\n",
       "      <td>-8.0</td>\n",
       "      <td>NaN</td>\n",
       "      <td>-5.0</td>\n",
       "    </tr>\n",
       "  </tbody>\n",
       "</table>\n",
       "</div>"
      ],
      "text/plain": [
       "            Thousands of Passengers  difference_shift_data_1  \\\n",
       "Month                                                          \n",
       "1949-01-01                    112.0                      NaN   \n",
       "1949-02-01                    118.0                      6.0   \n",
       "1949-03-01                    132.0                     14.0   \n",
       "1949-04-01                    129.0                     -3.0   \n",
       "1949-05-01                    121.0                     -8.0   \n",
       "\n",
       "            difference_shift_data_12  difference_shift_data_2  \n",
       "Month                                                          \n",
       "1949-01-01                       NaN                      NaN  \n",
       "1949-02-01                       NaN                      NaN  \n",
       "1949-03-01                       NaN                      8.0  \n",
       "1949-04-01                       NaN                    -17.0  \n",
       "1949-05-01                       NaN                     -5.0  "
      ]
     },
     "execution_count": 18,
     "metadata": {},
     "output_type": "execute_result"
    }
   ],
   "source": [
    "data_pass[\"difference_shift_data_2\"]  = data_pass[\"difference_shift_data_1\"] - data_pass[\"difference_shift_data_1\"].shift(1)\n",
    "data_pass.head()"
   ]
  },
  {
   "cell_type": "code",
   "execution_count": 19,
   "id": "commercial-recognition",
   "metadata": {},
   "outputs": [
    {
     "name": "stdout",
     "output_type": "stream",
     "text": [
      "statistical_value : -16.384231542468505\n",
      "p_value : 2.7328918500142407e-29\n",
      "strong evidence against the null hypothesis, reject the null hypothesis. Data has no unit root and is stationary\n"
     ]
    }
   ],
   "source": [
    "diccky_fuller(data_pass[\"difference_shift_data_2\"].dropna())"
   ]
  },
  {
   "cell_type": "code",
   "execution_count": 20,
   "id": "pointed-garlic",
   "metadata": {},
   "outputs": [
    {
     "name": "stdout",
     "output_type": "stream",
     "text": [
      "statistical_value : -3.383020726492481\n",
      "p_value : 0.011551493085514952\n",
      "strong evidence against the null hypothesis, reject the null hypothesis. Data has no unit root and is stationary\n"
     ]
    }
   ],
   "source": [
    "diccky_fuller(data_pass[\"difference_shift_data_12\"].dropna())"
   ]
  },
  {
   "cell_type": "code",
   "execution_count": 21,
   "id": "eligible-national",
   "metadata": {},
   "outputs": [],
   "source": [
    "from statsmodels.graphics.tsaplots import plot_acf,plot_pacf"
   ]
  },
  {
   "cell_type": "code",
   "execution_count": 22,
   "id": "verbal-improvement",
   "metadata": {},
   "outputs": [
    {
     "data": {
      "image/png": "[encoded data removed]",
      "text/plain": [
       "<Figure size 432x288 with 1 Axes>"
      ]
     },
     "metadata": {
      "needs_background": "light"
     },
     "output_type": "display_data"
    }
   ],
   "source": [
    "acf = plot_acf(data_pass[\"difference_shift_data_2\"].dropna())"
   ]
  },
  {
   "cell_type": "code",
   "execution_count": 23,
   "id": "eleven-withdrawal",
   "metadata": {},
   "outputs": [
    {
     "data": {
      "image/png": "[encoded data removed]",
      "text/plain": [
       "<Figure size 432x288 with 1 Axes>"
      ]
     },
     "metadata": {
      "needs_background": "light"
     },
     "output_type": "display_data"
    }
   ],
   "source": [
    "acf = plot_acf(data_pass[\"difference_shift_data_12\"].dropna())"
   ]
  },
  {
   "cell_type": "code",
   "execution_count": 24,
   "id": "handmade-concert",
   "metadata": {},
   "outputs": [
    {
     "name": "stderr",
     "output_type": "stream",
     "text": [
      "c:\\users\\user\\appdata\\local\\programs\\python\\python38\\lib\\site-packages\\statsmodels\\graphics\\tsaplots.py:348: FutureWarning: The default method 'yw' can produce PACF values outside of the [-1,1] interval. After 0.13, the default will change tounadjusted Yule-Walker ('ywm'). You can use this method now by setting method='ywm'.\n",
      "  warnings.warn(\n"
     ]
    },
    {
     "data": {
      "image/png": "[encoded data removed]",
      "text/plain": [
       "<Figure size 432x288 with 1 Axes>"
      ]
     },
     "metadata": {
      "needs_background": "light"
     },
     "output_type": "display_data"
    }
   ],
   "source": [
    "pacf = plot_pacf(data_pass[\"difference_shift_data_2\"].dropna())"
   ]
  },
  {
   "cell_type": "code",
   "execution_count": 25,
   "id": "powered-nightlife",
   "metadata": {},
   "outputs": [
    {
     "name": "stderr",
     "output_type": "stream",
     "text": [
      "c:\\users\\user\\appdata\\local\\programs\\python\\python38\\lib\\site-packages\\statsmodels\\graphics\\tsaplots.py:348: FutureWarning: The default method 'yw' can produce PACF values outside of the [-1,1] interval. After 0.13, the default will change tounadjusted Yule-Walker ('ywm'). You can use this method now by setting method='ywm'.\n",
      "  warnings.warn(\n"
     ]
    },
    {
     "data": {
      "image/png": "[encoded data removed]",
      "text/plain": [
       "<Figure size 432x288 with 1 Axes>"
      ]
     },
     "metadata": {
      "needs_background": "light"
     },
     "output_type": "display_data"
    }
   ],
   "source": [
    "pacf = plot_pacf(data_pass[\"difference_shift_data_12\"].dropna())"
   ]
  },
  {
   "cell_type": "code",
   "execution_count": 26,
   "id": "funky-bookmark",
   "metadata": {},
   "outputs": [
    {
     "data": {
      "text/html": [
       "<div>\n",
       "<style scoped>\n",
       "    .dataframe tbody tr th:only-of-type {\n",
       "        vertical-align: middle;\n",
       "    }\n",
       "\n",
       "    .dataframe tbody tr th {\n",
       "        vertical-align: top;\n",
       "    }\n",
       "\n",
       "    .dataframe thead th {\n",
       "        text-align: right;\n",
       "    }\n",
       "</style>\n",
       "<table border=\"1\" class=\"dataframe\">\n",
       "  <thead>\n",
       "    <tr style=\"text-align: right;\">\n",
       "      <th></th>\n",
       "      <th>Thousands of Passengers</th>\n",
       "      <th>difference_shift_data_1</th>\n",
       "      <th>difference_shift_data_12</th>\n",
       "      <th>difference_shift_data_2</th>\n",
       "    </tr>\n",
       "    <tr>\n",
       "      <th>Month</th>\n",
       "      <th></th>\n",
       "      <th></th>\n",
       "      <th></th>\n",
       "      <th></th>\n",
       "    </tr>\n",
       "  </thead>\n",
       "  <tbody>\n",
       "    <tr>\n",
       "      <th>1949-01-01</th>\n",
       "      <td>112.0</td>\n",
       "      <td>NaN</td>\n",
       "      <td>NaN</td>\n",
       "      <td>NaN</td>\n",
       "    </tr>\n",
       "    <tr>\n",
       "      <th>1949-02-01</th>\n",
       "      <td>118.0</td>\n",
       "      <td>6.0</td>\n",
       "      <td>NaN</td>\n",
       "      <td>NaN</td>\n",
       "    </tr>\n",
       "    <tr>\n",
       "      <th>1949-03-01</th>\n",
       "      <td>132.0</td>\n",
       "      <td>14.0</td>\n",
       "      <td>NaN</td>\n",
       "      <td>8.0</td>\n",
       "    </tr>\n",
       "    <tr>\n",
       "      <th>1949-04-01</th>\n",
       "      <td>129.0</td>\n",
       "      <td>-3.0</td>\n",
       "      <td>NaN</td>\n",
       "      <td>-17.0</td>\n",
       "    </tr>\n",
       "    <tr>\n",
       "      <th>1949-05-01</th>\n",
       "      <td>121.0</td>\n",
       "      <td>-8.0</td>\n",
       "      <td>NaN</td>\n",
       "      <td>-5.0</td>\n",
       "    </tr>\n",
       "  </tbody>\n",
       "</table>\n",
       "</div>"
      ],
      "text/plain": [
       "            Thousands of Passengers  difference_shift_data_1  \\\n",
       "Month                                                          \n",
       "1949-01-01                    112.0                      NaN   \n",
       "1949-02-01                    118.0                      6.0   \n",
       "1949-03-01                    132.0                     14.0   \n",
       "1949-04-01                    129.0                     -3.0   \n",
       "1949-05-01                    121.0                     -8.0   \n",
       "\n",
       "            difference_shift_data_12  difference_shift_data_2  \n",
       "Month                                                          \n",
       "1949-01-01                       NaN                      NaN  \n",
       "1949-02-01                       NaN                      NaN  \n",
       "1949-03-01                       NaN                      8.0  \n",
       "1949-04-01                       NaN                    -17.0  \n",
       "1949-05-01                       NaN                     -5.0  "
      ]
     },
     "execution_count": 26,
     "metadata": {},
     "output_type": "execute_result"
    }
   ],
   "source": [
    "data_pass.head()"
   ]
  },
  {
   "cell_type": "code",
   "execution_count": 27,
   "id": "sweet-asthma",
   "metadata": {},
   "outputs": [
    {
     "data": {
      "text/html": [
       "<div>\n",
       "<style scoped>\n",
       "    .dataframe tbody tr th:only-of-type {\n",
       "        vertical-align: middle;\n",
       "    }\n",
       "\n",
       "    .dataframe tbody tr th {\n",
       "        vertical-align: top;\n",
       "    }\n",
       "\n",
       "    .dataframe thead th {\n",
       "        text-align: right;\n",
       "    }\n",
       "</style>\n",
       "<table border=\"1\" class=\"dataframe\">\n",
       "  <thead>\n",
       "    <tr style=\"text-align: right;\">\n",
       "      <th></th>\n",
       "      <th>Thousands of Passengers</th>\n",
       "      <th>difference_shift_data_1</th>\n",
       "      <th>difference_shift_data_12</th>\n",
       "      <th>difference_shift_data_2</th>\n",
       "    </tr>\n",
       "    <tr>\n",
       "      <th>Month</th>\n",
       "      <th></th>\n",
       "      <th></th>\n",
       "      <th></th>\n",
       "      <th></th>\n",
       "    </tr>\n",
       "  </thead>\n",
       "  <tbody>\n",
       "    <tr>\n",
       "      <th>1960-08-01</th>\n",
       "      <td>606.0</td>\n",
       "      <td>-16.0</td>\n",
       "      <td>47.0</td>\n",
       "      <td>-103.0</td>\n",
       "    </tr>\n",
       "    <tr>\n",
       "      <th>1960-09-01</th>\n",
       "      <td>508.0</td>\n",
       "      <td>-98.0</td>\n",
       "      <td>45.0</td>\n",
       "      <td>-82.0</td>\n",
       "    </tr>\n",
       "    <tr>\n",
       "      <th>1960-10-01</th>\n",
       "      <td>461.0</td>\n",
       "      <td>-47.0</td>\n",
       "      <td>54.0</td>\n",
       "      <td>51.0</td>\n",
       "    </tr>\n",
       "    <tr>\n",
       "      <th>1960-11-01</th>\n",
       "      <td>390.0</td>\n",
       "      <td>-71.0</td>\n",
       "      <td>28.0</td>\n",
       "      <td>-24.0</td>\n",
       "    </tr>\n",
       "    <tr>\n",
       "      <th>1960-12-01</th>\n",
       "      <td>432.0</td>\n",
       "      <td>42.0</td>\n",
       "      <td>27.0</td>\n",
       "      <td>113.0</td>\n",
       "    </tr>\n",
       "  </tbody>\n",
       "</table>\n",
       "</div>"
      ],
      "text/plain": [
       "            Thousands of Passengers  difference_shift_data_1  \\\n",
       "Month                                                          \n",
       "1960-08-01                    606.0                    -16.0   \n",
       "1960-09-01                    508.0                    -98.0   \n",
       "1960-10-01                    461.0                    -47.0   \n",
       "1960-11-01                    390.0                    -71.0   \n",
       "1960-12-01                    432.0                     42.0   \n",
       "\n",
       "            difference_shift_data_12  difference_shift_data_2  \n",
       "Month                                                          \n",
       "1960-08-01                      47.0                   -103.0  \n",
       "1960-09-01                      45.0                    -82.0  \n",
       "1960-10-01                      54.0                     51.0  \n",
       "1960-11-01                      28.0                    -24.0  \n",
       "1960-12-01                      27.0                    113.0  "
      ]
     },
     "execution_count": 27,
     "metadata": {},
     "output_type": "execute_result"
    }
   ],
   "source": [
    "data_pass.tail()"
   ]
  },
  {
   "cell_type": "code",
   "execution_count": 28,
   "id": "assigned-eleven",
   "metadata": {},
   "outputs": [
    {
     "data": {
      "text/plain": [
       "(144, 4)"
      ]
     },
     "execution_count": 28,
     "metadata": {},
     "output_type": "execute_result"
    }
   ],
   "source": [
    "data_pass.shape"
   ]
  },
  {
   "cell_type": "code",
   "execution_count": 29,
   "id": "voluntary-wheel",
   "metadata": {},
   "outputs": [],
   "source": [
    "from datetime import datetime,timedelta\n",
    "train_dataset_end=datetime(1955,12,1)\n",
    "test_dataset_end=datetime(1960,12,1)"
   ]
  },
  {
   "cell_type": "code",
   "execution_count": 30,
   "id": "spiritual-placement",
   "metadata": {},
   "outputs": [],
   "source": [
    "train_data=data_pass[:train_dataset_end]\n",
    "test_data=data_pass[train_dataset_end+timedelta(days=1):test_dataset_end]"
   ]
  },
  {
   "cell_type": "code",
   "execution_count": 31,
   "id": "pointed-webster",
   "metadata": {},
   "outputs": [
    {
     "data": {
      "text/plain": [
       "(84, 4)"
      ]
     },
     "execution_count": 31,
     "metadata": {},
     "output_type": "execute_result"
    }
   ],
   "source": [
    "train_data.shape"
   ]
  },
  {
   "cell_type": "code",
   "execution_count": 32,
   "id": "assumed-family",
   "metadata": {},
   "outputs": [
    {
     "data": {
      "text/plain": [
       "(60, 4)"
      ]
     },
     "execution_count": 32,
     "metadata": {},
     "output_type": "execute_result"
    }
   ],
   "source": [
    "test_data.shape"
   ]
  },
  {
   "cell_type": "code",
   "execution_count": 33,
   "id": "checked-frederick",
   "metadata": {},
   "outputs": [
    {
     "data": {
      "text/plain": [
       "Timestamp('1949-01-01 00:00:00')"
      ]
     },
     "execution_count": 33,
     "metadata": {},
     "output_type": "execute_result"
    }
   ],
   "source": [
    "train_data.index[0]"
   ]
  },
  {
   "cell_type": "code",
   "execution_count": 34,
   "id": "interracial-president",
   "metadata": {},
   "outputs": [
    {
     "data": {
      "text/plain": [
       "Timestamp('1955-12-01 00:00:00')"
      ]
     },
     "execution_count": 34,
     "metadata": {},
     "output_type": "execute_result"
    }
   ],
   "source": [
    "train_data.index[-1]"
   ]
  },
  {
   "cell_type": "code",
   "execution_count": 35,
   "id": "invalid-trance",
   "metadata": {},
   "outputs": [],
   "source": [
    "##prediction\n",
    "pred_start_date=test_data.index[0]\n",
    "pred_end_date=test_data.index[-1]"
   ]
  },
  {
   "cell_type": "code",
   "execution_count": 36,
   "id": "subjective-commonwealth",
   "metadata": {},
   "outputs": [
    {
     "data": {
      "text/html": [
       "<div>\n",
       "<style scoped>\n",
       "    .dataframe tbody tr th:only-of-type {\n",
       "        vertical-align: middle;\n",
       "    }\n",
       "\n",
       "    .dataframe tbody tr th {\n",
       "        vertical-align: top;\n",
       "    }\n",
       "\n",
       "    .dataframe thead th {\n",
       "        text-align: right;\n",
       "    }\n",
       "</style>\n",
       "<table border=\"1\" class=\"dataframe\">\n",
       "  <thead>\n",
       "    <tr style=\"text-align: right;\">\n",
       "      <th></th>\n",
       "      <th>Thousands of Passengers</th>\n",
       "      <th>difference_shift_data_1</th>\n",
       "      <th>difference_shift_data_12</th>\n",
       "      <th>difference_shift_data_2</th>\n",
       "    </tr>\n",
       "    <tr>\n",
       "      <th>Month</th>\n",
       "      <th></th>\n",
       "      <th></th>\n",
       "      <th></th>\n",
       "      <th></th>\n",
       "    </tr>\n",
       "  </thead>\n",
       "  <tbody>\n",
       "    <tr>\n",
       "      <th>1956-01-01</th>\n",
       "      <td>284.0</td>\n",
       "      <td>6.0</td>\n",
       "      <td>42.0</td>\n",
       "      <td>-35.0</td>\n",
       "    </tr>\n",
       "    <tr>\n",
       "      <th>1956-02-01</th>\n",
       "      <td>277.0</td>\n",
       "      <td>-7.0</td>\n",
       "      <td>44.0</td>\n",
       "      <td>-13.0</td>\n",
       "    </tr>\n",
       "    <tr>\n",
       "      <th>1956-03-01</th>\n",
       "      <td>317.0</td>\n",
       "      <td>40.0</td>\n",
       "      <td>50.0</td>\n",
       "      <td>47.0</td>\n",
       "    </tr>\n",
       "    <tr>\n",
       "      <th>1956-04-01</th>\n",
       "      <td>313.0</td>\n",
       "      <td>-4.0</td>\n",
       "      <td>44.0</td>\n",
       "      <td>-44.0</td>\n",
       "    </tr>\n",
       "    <tr>\n",
       "      <th>1956-05-01</th>\n",
       "      <td>318.0</td>\n",
       "      <td>5.0</td>\n",
       "      <td>48.0</td>\n",
       "      <td>9.0</td>\n",
       "    </tr>\n",
       "  </tbody>\n",
       "</table>\n",
       "</div>"
      ],
      "text/plain": [
       "            Thousands of Passengers  difference_shift_data_1  \\\n",
       "Month                                                          \n",
       "1956-01-01                    284.0                      6.0   \n",
       "1956-02-01                    277.0                     -7.0   \n",
       "1956-03-01                    317.0                     40.0   \n",
       "1956-04-01                    313.0                     -4.0   \n",
       "1956-05-01                    318.0                      5.0   \n",
       "\n",
       "            difference_shift_data_12  difference_shift_data_2  \n",
       "Month                                                          \n",
       "1956-01-01                      42.0                    -35.0  \n",
       "1956-02-01                      44.0                    -13.0  \n",
       "1956-03-01                      50.0                     47.0  \n",
       "1956-04-01                      44.0                    -44.0  \n",
       "1956-05-01                      48.0                      9.0  "
      ]
     },
     "execution_count": 36,
     "metadata": {},
     "output_type": "execute_result"
    }
   ],
   "source": [
    "test_data.head()"
   ]
  },
  {
   "cell_type": "markdown",
   "id": "popular-timothy",
   "metadata": {},
   "source": [
    "**p = 10** -- > the value suddenly increases\n",
    "\n",
    "**q = 12** -- > the value suddenly increases\n",
    "\n",
    "**d = 2** -- > how many time dife"
   ]
  },
  {
   "cell_type": "code",
   "execution_count": 37,
   "id": "convinced-commonwealth",
   "metadata": {
    "scrolled": true
   },
   "outputs": [
    {
     "data": {
      "text/html": [
       "<table class=\"simpletable\">\n",
       "<caption>SARIMAX Results</caption>\n",
       "<tr>\n",
       "  <th>Dep. Variable:</th>   <td>Thousands of Passengers</td> <th>  No. Observations:  </th>    <td>84</td>   \n",
       "</tr>\n",
       "<tr>\n",
       "  <th>Model:</th>              <td>ARIMA(10, 2, 12)</td>     <th>  Log Likelihood     </th> <td>-307.723</td>\n",
       "</tr>\n",
       "<tr>\n",
       "  <th>Date:</th>               <td>Tue, 01 Mar 2022</td>     <th>  AIC                </th>  <td>661.446</td>\n",
       "</tr>\n",
       "<tr>\n",
       "  <th>Time:</th>                   <td>19:05:31</td>         <th>  BIC                </th>  <td>716.801</td>\n",
       "</tr>\n",
       "<tr>\n",
       "  <th>Sample:</th>                <td>01-01-1949</td>        <th>  HQIC               </th>  <td>683.670</td>\n",
       "</tr>\n",
       "<tr>\n",
       "  <th></th>                      <td>- 12-01-1955</td>       <th>                     </th>     <td> </td>   \n",
       "</tr>\n",
       "<tr>\n",
       "  <th>Covariance Type:</th>           <td>opg</td>           <th>                     </th>     <td> </td>   \n",
       "</tr>\n",
       "</table>\n",
       "<table class=\"simpletable\">\n",
       "<tr>\n",
       "     <td></td>       <th>coef</th>     <th>std err</th>      <th>z</th>      <th>P>|z|</th>  <th>[0.025</th>    <th>0.975]</th>  \n",
       "</tr>\n",
       "<tr>\n",
       "  <th>ar.L1</th>  <td>    0.0467</td> <td>    0.114</td> <td>    0.408</td> <td> 0.683</td> <td>   -0.178</td> <td>    0.271</td>\n",
       "</tr>\n",
       "<tr>\n",
       "  <th>ar.L2</th>  <td>   -1.0426</td> <td>    0.083</td> <td>  -12.518</td> <td> 0.000</td> <td>   -1.206</td> <td>   -0.879</td>\n",
       "</tr>\n",
       "<tr>\n",
       "  <th>ar.L3</th>  <td>    0.0881</td> <td>    0.138</td> <td>    0.637</td> <td> 0.524</td> <td>   -0.183</td> <td>    0.359</td>\n",
       "</tr>\n",
       "<tr>\n",
       "  <th>ar.L4</th>  <td>   -1.0248</td> <td>    0.131</td> <td>   -7.848</td> <td> 0.000</td> <td>   -1.281</td> <td>   -0.769</td>\n",
       "</tr>\n",
       "<tr>\n",
       "  <th>ar.L5</th>  <td>    0.0651</td> <td>    0.155</td> <td>    0.421</td> <td> 0.674</td> <td>   -0.238</td> <td>    0.368</td>\n",
       "</tr>\n",
       "<tr>\n",
       "  <th>ar.L6</th>  <td>   -0.9850</td> <td>    0.144</td> <td>   -6.858</td> <td> 0.000</td> <td>   -1.266</td> <td>   -0.703</td>\n",
       "</tr>\n",
       "<tr>\n",
       "  <th>ar.L7</th>  <td>    0.0170</td> <td>    0.142</td> <td>    0.120</td> <td> 0.905</td> <td>   -0.262</td> <td>    0.296</td>\n",
       "</tr>\n",
       "<tr>\n",
       "  <th>ar.L8</th>  <td>   -0.9819</td> <td>    0.123</td> <td>   -7.976</td> <td> 0.000</td> <td>   -1.223</td> <td>   -0.741</td>\n",
       "</tr>\n",
       "<tr>\n",
       "  <th>ar.L9</th>  <td>   -0.0070</td> <td>    0.095</td> <td>   -0.074</td> <td> 0.941</td> <td>   -0.193</td> <td>    0.179</td>\n",
       "</tr>\n",
       "<tr>\n",
       "  <th>ar.L10</th> <td>   -0.9389</td> <td>    0.085</td> <td>  -11.038</td> <td> 0.000</td> <td>   -1.106</td> <td>   -0.772</td>\n",
       "</tr>\n",
       "<tr>\n",
       "  <th>ma.L1</th>  <td>   -1.2856</td> <td>    0.253</td> <td>   -5.074</td> <td> 0.000</td> <td>   -1.782</td> <td>   -0.789</td>\n",
       "</tr>\n",
       "<tr>\n",
       "  <th>ma.L2</th>  <td>    1.2380</td> <td>    0.357</td> <td>    3.464</td> <td> 0.001</td> <td>    0.537</td> <td>    1.939</td>\n",
       "</tr>\n",
       "<tr>\n",
       "  <th>ma.L3</th>  <td>   -1.4392</td> <td>    0.434</td> <td>   -3.315</td> <td> 0.001</td> <td>   -2.290</td> <td>   -0.588</td>\n",
       "</tr>\n",
       "<tr>\n",
       "  <th>ma.L4</th>  <td>    1.3716</td> <td>    0.504</td> <td>    2.722</td> <td> 0.006</td> <td>    0.384</td> <td>    2.359</td>\n",
       "</tr>\n",
       "<tr>\n",
       "  <th>ma.L5</th>  <td>   -1.2116</td> <td>    0.571</td> <td>   -2.120</td> <td> 0.034</td> <td>   -2.332</td> <td>   -0.092</td>\n",
       "</tr>\n",
       "<tr>\n",
       "  <th>ma.L6</th>  <td>    1.0800</td> <td>    0.658</td> <td>    1.642</td> <td> 0.101</td> <td>   -0.209</td> <td>    2.369</td>\n",
       "</tr>\n",
       "<tr>\n",
       "  <th>ma.L7</th>  <td>   -1.0670</td> <td>    0.714</td> <td>   -1.495</td> <td> 0.135</td> <td>   -2.466</td> <td>    0.332</td>\n",
       "</tr>\n",
       "<tr>\n",
       "  <th>ma.L8</th>  <td>    0.8841</td> <td>    0.819</td> <td>    1.080</td> <td> 0.280</td> <td>   -0.721</td> <td>    2.489</td>\n",
       "</tr>\n",
       "<tr>\n",
       "  <th>ma.L9</th>  <td>   -0.7846</td> <td>    0.736</td> <td>   -1.066</td> <td> 0.286</td> <td>   -2.227</td> <td>    0.658</td>\n",
       "</tr>\n",
       "<tr>\n",
       "  <th>ma.L10</th> <td>    0.5241</td> <td>    0.601</td> <td>    0.872</td> <td> 0.383</td> <td>   -0.653</td> <td>    1.702</td>\n",
       "</tr>\n",
       "<tr>\n",
       "  <th>ma.L11</th> <td>   -0.4140</td> <td>    0.455</td> <td>   -0.911</td> <td> 0.363</td> <td>   -1.305</td> <td>    0.477</td>\n",
       "</tr>\n",
       "<tr>\n",
       "  <th>ma.L12</th> <td>    0.1335</td> <td>    0.273</td> <td>    0.489</td> <td> 0.625</td> <td>   -0.401</td> <td>    0.668</td>\n",
       "</tr>\n",
       "<tr>\n",
       "  <th>sigma2</th> <td>   77.0666</td> <td>   16.117</td> <td>    4.782</td> <td> 0.000</td> <td>   45.478</td> <td>  108.656</td>\n",
       "</tr>\n",
       "</table>\n",
       "<table class=\"simpletable\">\n",
       "<tr>\n",
       "  <th>Ljung-Box (L1) (Q):</th>     <td>0.00</td> <th>  Jarque-Bera (JB):  </th> <td>4.71</td>\n",
       "</tr>\n",
       "<tr>\n",
       "  <th>Prob(Q):</th>                <td>0.99</td> <th>  Prob(JB):          </th> <td>0.09</td>\n",
       "</tr>\n",
       "<tr>\n",
       "  <th>Heteroskedasticity (H):</th> <td>2.12</td> <th>  Skew:              </th> <td>0.58</td>\n",
       "</tr>\n",
       "<tr>\n",
       "  <th>Prob(H) (two-sided):</th>    <td>0.06</td> <th>  Kurtosis:          </th> <td>2.89</td>\n",
       "</tr>\n",
       "</table><br/><br/>Warnings:<br/>[1] Covariance matrix calculated using the outer product of gradients (complex-step)."
      ],
      "text/plain": [
       "<class 'statsmodels.iolib.summary.Summary'>\n",
       "\"\"\"\n",
       "                                  SARIMAX Results                                  \n",
       "===================================================================================\n",
       "Dep. Variable:     Thousands of Passengers   No. Observations:                   84\n",
       "Model:                    ARIMA(10, 2, 12)   Log Likelihood                -307.723\n",
       "Date:                     Tue, 01 Mar 2022   AIC                            661.446\n",
       "Time:                             19:05:31   BIC                            716.801\n",
       "Sample:                         01-01-1949   HQIC                           683.670\n",
       "                              - 12-01-1955                                         \n",
       "Covariance Type:                       opg                                         \n",
       "==============================================================================\n",
       "                 coef    std err          z      P>|z|      [0.025      0.975]\n",
       "------------------------------------------------------------------------------\n",
       "ar.L1          0.0467      0.114      0.408      0.683      -0.178       0.271\n",
       "ar.L2         -1.0426      0.083    -12.518      0.000      -1.206      -0.879\n",
       "ar.L3          0.0881      0.138      0.637      0.524      -0.183       0.359\n",
       "ar.L4         -1.0248      0.131     -7.848      0.000      -1.281      -0.769\n",
       "ar.L5          0.0651      0.155      0.421      0.674      -0.238       0.368\n",
       "ar.L6         -0.9850      0.144     -6.858      0.000      -1.266      -0.703\n",
       "ar.L7          0.0170      0.142      0.120      0.905      -0.262       0.296\n",
       "ar.L8         -0.9819      0.123     -7.976      0.000      -1.223      -0.741\n",
       "ar.L9         -0.0070      0.095     -0.074      0.941      -0.193       0.179\n",
       "ar.L10        -0.9389      0.085    -11.038      0.000      -1.106      -0.772\n",
       "ma.L1         -1.2856      0.253     -5.074      0.000      -1.782      -0.789\n",
       "ma.L2          1.2380      0.357      3.464      0.001       0.537       1.939\n",
       "ma.L3         -1.4392      0.434     -3.315      0.001      -2.290      -0.588\n",
       "ma.L4          1.3716      0.504      2.722      0.006       0.384       2.359\n",
       "ma.L5         -1.2116      0.571     -2.120      0.034      -2.332      -0.092\n",
       "ma.L6          1.0800      0.658      1.642      0.101      -0.209       2.369\n",
       "ma.L7         -1.0670      0.714     -1.495      0.135      -2.466       0.332\n",
       "ma.L8          0.8841      0.819      1.080      0.280      -0.721       2.489\n",
       "ma.L9         -0.7846      0.736     -1.066      0.286      -2.227       0.658\n",
       "ma.L10         0.5241      0.601      0.872      0.383      -0.653       1.702\n",
       "ma.L11        -0.4140      0.455     -0.911      0.363      -1.305       0.477\n",
       "ma.L12         0.1335      0.273      0.489      0.625      -0.401       0.668\n",
       "sigma2        77.0666     16.117      4.782      0.000      45.478     108.656\n",
       "===================================================================================\n",
       "Ljung-Box (L1) (Q):                   0.00   Jarque-Bera (JB):                 4.71\n",
       "Prob(Q):                              0.99   Prob(JB):                         0.09\n",
       "Heteroskedasticity (H):               2.12   Skew:                             0.58\n",
       "Prob(H) (two-sided):                  0.06   Kurtosis:                         2.89\n",
       "===================================================================================\n",
       "\n",
       "Warnings:\n",
       "[1] Covariance matrix calculated using the outer product of gradients (complex-step).\n",
       "\"\"\""
      ]
     },
     "execution_count": 37,
     "metadata": {},
     "output_type": "execute_result"
    }
   ],
   "source": [
    "## create a ARIMA model\n",
    "import statsmodels.api as sm\n",
    "# from statsmodels.tsa.arima.model import ARIMA\n",
    "import warnings\n",
    "warnings.filterwarnings(\"ignore\")\n",
    "\n",
    "model = sm.tsa.arima.ARIMA(train_data[\"Thousands of Passengers\"],order=(10,2,12))\n",
    "model_fit = model.fit()\n",
    "model_fit.summary()"
   ]
  },
  {
   "cell_type": "code",
   "execution_count": 38,
   "id": "supposed-telephone",
   "metadata": {},
   "outputs": [],
   "source": [
    "pred_test = test_data.index[0]\n",
    "pred_end_test = test_data.index[-1]"
   ]
  },
  {
   "cell_type": "code",
   "execution_count": 39,
   "id": "drawn-patient",
   "metadata": {},
   "outputs": [
    {
     "data": {
      "text/plain": [
       "Timestamp('1956-01-01 00:00:00')"
      ]
     },
     "execution_count": 39,
     "metadata": {},
     "output_type": "execute_result"
    }
   ],
   "source": [
    "pred_test"
   ]
  },
  {
   "cell_type": "code",
   "execution_count": 40,
   "id": "developmental-symbol",
   "metadata": {},
   "outputs": [
    {
     "data": {
      "text/plain": [
       "Timestamp('1960-12-01 00:00:00')"
      ]
     },
     "execution_count": 40,
     "metadata": {},
     "output_type": "execute_result"
    }
   ],
   "source": [
    "pred_end_test"
   ]
  },
  {
   "cell_type": "code",
   "execution_count": 41,
   "id": "south-dining",
   "metadata": {},
   "outputs": [
    {
     "data": {
      "text/html": [
       "<div>\n",
       "<style scoped>\n",
       "    .dataframe tbody tr th:only-of-type {\n",
       "        vertical-align: middle;\n",
       "    }\n",
       "\n",
       "    .dataframe tbody tr th {\n",
       "        vertical-align: top;\n",
       "    }\n",
       "\n",
       "    .dataframe thead th {\n",
       "        text-align: right;\n",
       "    }\n",
       "</style>\n",
       "<table border=\"1\" class=\"dataframe\">\n",
       "  <thead>\n",
       "    <tr style=\"text-align: right;\">\n",
       "      <th></th>\n",
       "      <th>Thousands of Passengers</th>\n",
       "      <th>difference_shift_data_1</th>\n",
       "      <th>difference_shift_data_12</th>\n",
       "      <th>difference_shift_data_2</th>\n",
       "    </tr>\n",
       "    <tr>\n",
       "      <th>Month</th>\n",
       "      <th></th>\n",
       "      <th></th>\n",
       "      <th></th>\n",
       "      <th></th>\n",
       "    </tr>\n",
       "  </thead>\n",
       "  <tbody>\n",
       "    <tr>\n",
       "      <th>1956-01-01</th>\n",
       "      <td>284.0</td>\n",
       "      <td>6.0</td>\n",
       "      <td>42.0</td>\n",
       "      <td>-35.0</td>\n",
       "    </tr>\n",
       "    <tr>\n",
       "      <th>1956-02-01</th>\n",
       "      <td>277.0</td>\n",
       "      <td>-7.0</td>\n",
       "      <td>44.0</td>\n",
       "      <td>-13.0</td>\n",
       "    </tr>\n",
       "  </tbody>\n",
       "</table>\n",
       "</div>"
      ],
      "text/plain": [
       "            Thousands of Passengers  difference_shift_data_1  \\\n",
       "Month                                                          \n",
       "1956-01-01                    284.0                      6.0   \n",
       "1956-02-01                    277.0                     -7.0   \n",
       "\n",
       "            difference_shift_data_12  difference_shift_data_2  \n",
       "Month                                                          \n",
       "1956-01-01                      42.0                    -35.0  \n",
       "1956-02-01                      44.0                    -13.0  "
      ]
     },
     "execution_count": 41,
     "metadata": {},
     "output_type": "execute_result"
    }
   ],
   "source": [
    "test_data.head(2)"
   ]
  },
  {
   "cell_type": "code",
   "execution_count": 42,
   "id": "smart-memory",
   "metadata": {},
   "outputs": [
    {
     "data": {
      "text/html": [
       "<div>\n",
       "<style scoped>\n",
       "    .dataframe tbody tr th:only-of-type {\n",
       "        vertical-align: middle;\n",
       "    }\n",
       "\n",
       "    .dataframe tbody tr th {\n",
       "        vertical-align: top;\n",
       "    }\n",
       "\n",
       "    .dataframe thead th {\n",
       "        text-align: right;\n",
       "    }\n",
       "</style>\n",
       "<table border=\"1\" class=\"dataframe\">\n",
       "  <thead>\n",
       "    <tr style=\"text-align: right;\">\n",
       "      <th></th>\n",
       "      <th>Thousands of Passengers</th>\n",
       "      <th>difference_shift_data_1</th>\n",
       "      <th>difference_shift_data_12</th>\n",
       "      <th>difference_shift_data_2</th>\n",
       "    </tr>\n",
       "    <tr>\n",
       "      <th>Month</th>\n",
       "      <th></th>\n",
       "      <th></th>\n",
       "      <th></th>\n",
       "      <th></th>\n",
       "    </tr>\n",
       "  </thead>\n",
       "  <tbody>\n",
       "    <tr>\n",
       "      <th>1960-11-01</th>\n",
       "      <td>390.0</td>\n",
       "      <td>-71.0</td>\n",
       "      <td>28.0</td>\n",
       "      <td>-24.0</td>\n",
       "    </tr>\n",
       "    <tr>\n",
       "      <th>1960-12-01</th>\n",
       "      <td>432.0</td>\n",
       "      <td>42.0</td>\n",
       "      <td>27.0</td>\n",
       "      <td>113.0</td>\n",
       "    </tr>\n",
       "  </tbody>\n",
       "</table>\n",
       "</div>"
      ],
      "text/plain": [
       "            Thousands of Passengers  difference_shift_data_1  \\\n",
       "Month                                                          \n",
       "1960-11-01                    390.0                    -71.0   \n",
       "1960-12-01                    432.0                     42.0   \n",
       "\n",
       "            difference_shift_data_12  difference_shift_data_2  \n",
       "Month                                                          \n",
       "1960-11-01                      28.0                    -24.0  \n",
       "1960-12-01                      27.0                    113.0  "
      ]
     },
     "execution_count": 42,
     "metadata": {},
     "output_type": "execute_result"
    }
   ],
   "source": [
    "test_data.tail(2)"
   ]
  },
  {
   "cell_type": "code",
   "execution_count": 43,
   "id": "brown-azerbaijan",
   "metadata": {},
   "outputs": [],
   "source": [
    "pred = model_fit.predict(start=pred_test, end=pred_end_test)\n",
    "errors = test_data[\"Thousands of Passengers\"] - pred\n",
    "# errors"
   ]
  },
  {
   "cell_type": "code",
   "execution_count": 44,
   "id": "contained-signature",
   "metadata": {},
   "outputs": [
    {
     "data": {
      "text/plain": [
       "<AxesSubplot:ylabel='Density'>"
      ]
     },
     "execution_count": 44,
     "metadata": {},
     "output_type": "execute_result"
    },
    {
     "data": {
      "image/png": "[encoded data removed]",
      "text/plain": [
       "<Figure size 432x288 with 1 Axes>"
      ]
     },
     "metadata": {
      "needs_background": "light"
     },
     "output_type": "display_data"
    }
   ],
   "source": [
    "model_fit.resid.plot(kind='kde')"
   ]
  },
  {
   "cell_type": "code",
   "execution_count": 45,
   "id": "transparent-bones",
   "metadata": {},
   "outputs": [
    {
     "data": {
      "text/html": [
       "<div>\n",
       "<style scoped>\n",
       "    .dataframe tbody tr th:only-of-type {\n",
       "        vertical-align: middle;\n",
       "    }\n",
       "\n",
       "    .dataframe tbody tr th {\n",
       "        vertical-align: top;\n",
       "    }\n",
       "\n",
       "    .dataframe thead th {\n",
       "        text-align: right;\n",
       "    }\n",
       "</style>\n",
       "<table border=\"1\" class=\"dataframe\">\n",
       "  <thead>\n",
       "    <tr style=\"text-align: right;\">\n",
       "      <th></th>\n",
       "      <th>Thousands of Passengers</th>\n",
       "      <th>difference_shift_data_1</th>\n",
       "      <th>difference_shift_data_12</th>\n",
       "      <th>difference_shift_data_2</th>\n",
       "      <th>Arima_predicted_values</th>\n",
       "    </tr>\n",
       "    <tr>\n",
       "      <th>Month</th>\n",
       "      <th></th>\n",
       "      <th></th>\n",
       "      <th></th>\n",
       "      <th></th>\n",
       "      <th></th>\n",
       "    </tr>\n",
       "  </thead>\n",
       "  <tbody>\n",
       "    <tr>\n",
       "      <th>1956-01-01</th>\n",
       "      <td>284.0</td>\n",
       "      <td>6.0</td>\n",
       "      <td>42.0</td>\n",
       "      <td>-35.0</td>\n",
       "      <td>283.267881</td>\n",
       "    </tr>\n",
       "  </tbody>\n",
       "</table>\n",
       "</div>"
      ],
      "text/plain": [
       "            Thousands of Passengers  difference_shift_data_1  \\\n",
       "Month                                                          \n",
       "1956-01-01                    284.0                      6.0   \n",
       "\n",
       "            difference_shift_data_12  difference_shift_data_2  \\\n",
       "Month                                                           \n",
       "1956-01-01                      42.0                    -35.0   \n",
       "\n",
       "            Arima_predicted_values  \n",
       "Month                               \n",
       "1956-01-01              283.267881  "
      ]
     },
     "execution_count": 45,
     "metadata": {},
     "output_type": "execute_result"
    }
   ],
   "source": [
    "test_data[\"Arima_predicted_values\"] = pred\n",
    "test_data.head(1)"
   ]
  },
  {
   "cell_type": "code",
   "execution_count": 46,
   "id": "silent-tackle",
   "metadata": {},
   "outputs": [
    {
     "data": {
      "text/plain": [
       "<AxesSubplot:xlabel='Month'>"
      ]
     },
     "execution_count": 46,
     "metadata": {},
     "output_type": "execute_result"
    },
    {
     "data": {
      "image/png": "[encoded data removed]",
      "text/plain": [
       "<Figure size 864x360 with 1 Axes>"
      ]
     },
     "metadata": {
      "needs_background": "light"
     },
     "output_type": "display_data"
    }
   ],
   "source": [
    "test_data[[\"Thousands of Passengers\",\"Arima_predicted_values\"]].plot(figsize=(12,5))"
   ]
  },
  {
   "cell_type": "code",
   "execution_count": 47,
   "id": "liable-double",
   "metadata": {},
   "outputs": [
    {
     "data": {
      "text/plain": [
       "Index(['Thousands of Passengers', 'difference_shift_data_1',\n",
       "       'difference_shift_data_12', 'difference_shift_data_2'],\n",
       "      dtype='object')"
      ]
     },
     "execution_count": 47,
     "metadata": {},
     "output_type": "execute_result"
    }
   ],
   "source": [
    "train_data.columns"
   ]
  },
  {
   "cell_type": "code",
   "execution_count": 48,
   "id": "opening-authority",
   "metadata": {
    "scrolled": true
   },
   "outputs": [
    {
     "data": {
      "text/html": [
       "<table class=\"simpletable\">\n",
       "<caption>SARIMAX Results</caption>\n",
       "<tr>\n",
       "  <th>Dep. Variable:</th>        <td>Thousands of Passengers</td>     <th>  No. Observations:  </th>    <td>84</td>   \n",
       "</tr>\n",
       "<tr>\n",
       "  <th>Model:</th>           <td>SARIMAX(10, 2, 2)x(10, 2, 2, 12)</td> <th>  Log Likelihood     </th> <td>-221.220</td>\n",
       "</tr>\n",
       "<tr>\n",
       "  <th>Date:</th>                    <td>Tue, 01 Mar 2022</td>         <th>  AIC                </th>  <td>492.440</td>\n",
       "</tr>\n",
       "<tr>\n",
       "  <th>Time:</th>                        <td>19:09:26</td>             <th>  BIC                </th>  <td>543.951</td>\n",
       "</tr>\n",
       "<tr>\n",
       "  <th>Sample:</th>                     <td>01-01-1949</td>            <th>  HQIC               </th>  <td>512.505</td>\n",
       "</tr>\n",
       "<tr>\n",
       "  <th></th>                           <td>- 12-01-1955</td>           <th>                     </th>     <td> </td>   \n",
       "</tr>\n",
       "<tr>\n",
       "  <th>Covariance Type:</th>                <td>opg</td>               <th>                     </th>     <td> </td>   \n",
       "</tr>\n",
       "</table>\n",
       "<table class=\"simpletable\">\n",
       "<tr>\n",
       "      <td></td>         <th>coef</th>     <th>std err</th>      <th>z</th>      <th>P>|z|</th>  <th>[0.025</th>    <th>0.975]</th>  \n",
       "</tr>\n",
       "<tr>\n",
       "  <th>ar.L1</th>     <td>   -1.0410</td> <td>    2.832</td> <td>   -0.368</td> <td> 0.713</td> <td>   -6.592</td> <td>    4.510</td>\n",
       "</tr>\n",
       "<tr>\n",
       "  <th>ar.L2</th>     <td>   -0.2786</td> <td>    1.778</td> <td>   -0.157</td> <td> 0.876</td> <td>   -3.763</td> <td>    3.206</td>\n",
       "</tr>\n",
       "<tr>\n",
       "  <th>ar.L3</th>     <td>   -0.2562</td> <td>    1.441</td> <td>   -0.178</td> <td> 0.859</td> <td>   -3.081</td> <td>    2.569</td>\n",
       "</tr>\n",
       "<tr>\n",
       "  <th>ar.L4</th>     <td>   -0.1384</td> <td>    1.708</td> <td>   -0.081</td> <td> 0.935</td> <td>   -3.487</td> <td>    3.210</td>\n",
       "</tr>\n",
       "<tr>\n",
       "  <th>ar.L5</th>     <td>    0.1253</td> <td>    1.474</td> <td>    0.085</td> <td> 0.932</td> <td>   -2.763</td> <td>    3.014</td>\n",
       "</tr>\n",
       "<tr>\n",
       "  <th>ar.L6</th>     <td>    0.2211</td> <td>    1.335</td> <td>    0.166</td> <td> 0.868</td> <td>   -2.396</td> <td>    2.838</td>\n",
       "</tr>\n",
       "<tr>\n",
       "  <th>ar.L7</th>     <td>    0.1754</td> <td>    1.278</td> <td>    0.137</td> <td> 0.891</td> <td>   -2.330</td> <td>    2.681</td>\n",
       "</tr>\n",
       "<tr>\n",
       "  <th>ar.L8</th>     <td>    0.1578</td> <td>    1.032</td> <td>    0.153</td> <td> 0.878</td> <td>   -1.864</td> <td>    2.180</td>\n",
       "</tr>\n",
       "<tr>\n",
       "  <th>ar.L9</th>     <td>    0.2290</td> <td>    0.775</td> <td>    0.296</td> <td> 0.768</td> <td>   -1.289</td> <td>    1.747</td>\n",
       "</tr>\n",
       "<tr>\n",
       "  <th>ar.L10</th>    <td>    0.1501</td> <td>    0.329</td> <td>    0.457</td> <td> 0.648</td> <td>   -0.494</td> <td>    0.794</td>\n",
       "</tr>\n",
       "<tr>\n",
       "  <th>ma.L1</th>     <td>   -0.3229</td> <td>    4.750</td> <td>   -0.068</td> <td> 0.946</td> <td>   -9.633</td> <td>    8.987</td>\n",
       "</tr>\n",
       "<tr>\n",
       "  <th>ma.L2</th>     <td>   -0.6581</td> <td>    3.091</td> <td>   -0.213</td> <td> 0.831</td> <td>   -6.717</td> <td>    5.401</td>\n",
       "</tr>\n",
       "<tr>\n",
       "  <th>ar.S.L12</th>  <td>   -0.1556</td> <td>  462.425</td> <td>   -0.000</td> <td> 1.000</td> <td> -906.493</td> <td>  906.182</td>\n",
       "</tr>\n",
       "<tr>\n",
       "  <th>ar.S.L24</th>  <td>    0.3894</td> <td> 1058.638</td> <td>    0.000</td> <td> 1.000</td> <td>-2074.504</td> <td> 2075.283</td>\n",
       "</tr>\n",
       "<tr>\n",
       "  <th>ar.S.L36</th>  <td>   -0.1380</td> <td>  597.742</td> <td>   -0.000</td> <td> 1.000</td> <td>-1171.691</td> <td> 1171.415</td>\n",
       "</tr>\n",
       "<tr>\n",
       "  <th>ar.S.L48</th>  <td>   -0.4062</td> <td>  731.448</td> <td>   -0.001</td> <td> 1.000</td> <td>-1434.017</td> <td> 1433.205</td>\n",
       "</tr>\n",
       "<tr>\n",
       "  <th>ar.S.L60</th>  <td>    0.6486</td> <td>  361.895</td> <td>    0.002</td> <td> 0.999</td> <td> -708.653</td> <td>  709.950</td>\n",
       "</tr>\n",
       "<tr>\n",
       "  <th>ar.S.L72</th>  <td>    0.0251</td> <td>  624.429</td> <td> 4.03e-05</td> <td> 1.000</td> <td>-1223.833</td> <td> 1223.883</td>\n",
       "</tr>\n",
       "<tr>\n",
       "  <th>ar.S.L84</th>  <td>   -0.5923</td> <td>  606.558</td> <td>   -0.001</td> <td> 0.999</td> <td>-1189.424</td> <td> 1188.239</td>\n",
       "</tr>\n",
       "<tr>\n",
       "  <th>ar.S.L96</th>  <td>   -0.2150</td> <td>  998.227</td> <td>   -0.000</td> <td> 1.000</td> <td>-1956.705</td> <td> 1956.275</td>\n",
       "</tr>\n",
       "<tr>\n",
       "  <th>ar.S.L108</th> <td>   -0.0609</td> <td>  488.799</td> <td>   -0.000</td> <td> 1.000</td> <td> -958.089</td> <td>  957.967</td>\n",
       "</tr>\n",
       "<tr>\n",
       "  <th>ar.S.L120</th> <td>   -0.0153</td> <td>  614.969</td> <td>-2.49e-05</td> <td> 1.000</td> <td>-1205.333</td> <td> 1205.303</td>\n",
       "</tr>\n",
       "<tr>\n",
       "  <th>ma.S.L12</th>  <td>   -0.2120</td> <td>  903.909</td> <td>   -0.000</td> <td> 1.000</td> <td>-1771.842</td> <td> 1771.418</td>\n",
       "</tr>\n",
       "<tr>\n",
       "  <th>ma.S.L24</th>  <td>   -0.6927</td> <td> 1002.372</td> <td>   -0.001</td> <td> 0.999</td> <td>-1965.306</td> <td> 1963.921</td>\n",
       "</tr>\n",
       "<tr>\n",
       "  <th>sigma2</th>    <td>    9.4254</td> <td> 1.16e+04</td> <td>    0.001</td> <td> 0.999</td> <td>-2.27e+04</td> <td> 2.28e+04</td>\n",
       "</tr>\n",
       "</table>\n",
       "<table class=\"simpletable\">\n",
       "<tr>\n",
       "  <th>Ljung-Box (L1) (Q):</th>     <td>0.00</td> <th>  Jarque-Bera (JB):  </th> <td>1.29</td>\n",
       "</tr>\n",
       "<tr>\n",
       "  <th>Prob(Q):</th>                <td>0.96</td> <th>  Prob(JB):          </th> <td>0.52</td>\n",
       "</tr>\n",
       "<tr>\n",
       "  <th>Heteroskedasticity (H):</th> <td>1.91</td> <th>  Skew:              </th> <td>0.27</td>\n",
       "</tr>\n",
       "<tr>\n",
       "  <th>Prob(H) (two-sided):</th>    <td>0.17</td> <th>  Kurtosis:          </th> <td>3.49</td>\n",
       "</tr>\n",
       "</table><br/><br/>Warnings:<br/>[1] Covariance matrix calculated using the outer product of gradients (complex-step)."
      ],
      "text/plain": [
       "<class 'statsmodels.iolib.summary.Summary'>\n",
       "\"\"\"\n",
       "                                      SARIMAX Results                                       \n",
       "============================================================================================\n",
       "Dep. Variable:              Thousands of Passengers   No. Observations:                   84\n",
       "Model:             SARIMAX(10, 2, 2)x(10, 2, 2, 12)   Log Likelihood                -221.220\n",
       "Date:                              Tue, 01 Mar 2022   AIC                            492.440\n",
       "Time:                                      19:09:26   BIC                            543.951\n",
       "Sample:                                  01-01-1949   HQIC                           512.505\n",
       "                                       - 12-01-1955                                         \n",
       "Covariance Type:                                opg                                         \n",
       "==============================================================================\n",
       "                 coef    std err          z      P>|z|      [0.025      0.975]\n",
       "------------------------------------------------------------------------------\n",
       "ar.L1         -1.0410      2.832     -0.368      0.713      -6.592       4.510\n",
       "ar.L2         -0.2786      1.778     -0.157      0.876      -3.763       3.206\n",
       "ar.L3         -0.2562      1.441     -0.178      0.859      -3.081       2.569\n",
       "ar.L4         -0.1384      1.708     -0.081      0.935      -3.487       3.210\n",
       "ar.L5          0.1253      1.474      0.085      0.932      -2.763       3.014\n",
       "ar.L6          0.2211      1.335      0.166      0.868      -2.396       2.838\n",
       "ar.L7          0.1754      1.278      0.137      0.891      -2.330       2.681\n",
       "ar.L8          0.1578      1.032      0.153      0.878      -1.864       2.180\n",
       "ar.L9          0.2290      0.775      0.296      0.768      -1.289       1.747\n",
       "ar.L10         0.1501      0.329      0.457      0.648      -0.494       0.794\n",
       "ma.L1         -0.3229      4.750     -0.068      0.946      -9.633       8.987\n",
       "ma.L2         -0.6581      3.091     -0.213      0.831      -6.717       5.401\n",
       "ar.S.L12      -0.1556    462.425     -0.000      1.000    -906.493     906.182\n",
       "ar.S.L24       0.3894   1058.638      0.000      1.000   -2074.504    2075.283\n",
       "ar.S.L36      -0.1380    597.742     -0.000      1.000   -1171.691    1171.415\n",
       "ar.S.L48      -0.4062    731.448     -0.001      1.000   -1434.017    1433.205\n",
       "ar.S.L60       0.6486    361.895      0.002      0.999    -708.653     709.950\n",
       "ar.S.L72       0.0251    624.429   4.03e-05      1.000   -1223.833    1223.883\n",
       "ar.S.L84      -0.5923    606.558     -0.001      0.999   -1189.424    1188.239\n",
       "ar.S.L96      -0.2150    998.227     -0.000      1.000   -1956.705    1956.275\n",
       "ar.S.L108     -0.0609    488.799     -0.000      1.000    -958.089     957.967\n",
       "ar.S.L120     -0.0153    614.969  -2.49e-05      1.000   -1205.333    1205.303\n",
       "ma.S.L12      -0.2120    903.909     -0.000      1.000   -1771.842    1771.418\n",
       "ma.S.L24      -0.6927   1002.372     -0.001      0.999   -1965.306    1963.921\n",
       "sigma2         9.4254   1.16e+04      0.001      0.999   -2.27e+04    2.28e+04\n",
       "===================================================================================\n",
       "Ljung-Box (L1) (Q):                   0.00   Jarque-Bera (JB):                 1.29\n",
       "Prob(Q):                              0.96   Prob(JB):                         0.52\n",
       "Heteroskedasticity (H):               1.91   Skew:                             0.27\n",
       "Prob(H) (two-sided):                  0.17   Kurtosis:                         3.49\n",
       "===================================================================================\n",
       "\n",
       "Warnings:\n",
       "[1] Covariance matrix calculated using the outer product of gradients (complex-step).\n",
       "\"\"\""
      ]
     },
     "execution_count": 48,
     "metadata": {},
     "output_type": "execute_result"
    }
   ],
   "source": [
    "# statsmodels.tsa.statespace.sarimax.SARIMAX\n",
    "import statsmodels\n",
    "model_sarimax = statsmodels.tsa.statespace.sarimax.SARIMAX(train_data[\"Thousands of Passengers\"],order=(10,2,2),seasonal_order=(10,2,2,12))\n",
    "model_sarimax_fit = model_sarimax.fit()\n",
    "model_sarimax_fit.summary()"
   ]
  },
  {
   "cell_type": "code",
   "execution_count": 49,
   "id": "welcome-lender",
   "metadata": {},
   "outputs": [],
   "source": [
    "pred_sarimax = model_sarimax_fit.predict(start=pred_test, end=pred_end_test)\n",
    "errors_sarimax = test_data[\"Thousands of Passengers\"] - pred\n",
    "# errors"
   ]
  },
  {
   "cell_type": "code",
   "execution_count": 50,
   "id": "dominican-perspective",
   "metadata": {},
   "outputs": [],
   "source": [
    "test_data[\"sarimax_model_predict\"] = pred_sarimax"
   ]
  },
  {
   "cell_type": "code",
   "execution_count": 52,
   "id": "convertible-raising",
   "metadata": {},
   "outputs": [
    {
     "data": {
      "text/plain": [
       "<AxesSubplot:xlabel='Month'>"
      ]
     },
     "execution_count": 52,
     "metadata": {},
     "output_type": "execute_result"
    },
    {
     "data": {
      "image/png": "[encoded data removed]",
      "text/plain": [
       "<Figure size 864x360 with 1 Axes>"
      ]
     },
     "metadata": {
      "needs_background": "light"
     },
     "output_type": "display_data"
    }
   ],
   "source": [
    "test_data[[\"Thousands of Passengers\",\"sarimax_model_predict\",\"Arima_predicted_values\"]].plot(figsize=(12,5))"
   ]
  },
  {
   "cell_type": "code",
   "execution_count": null,
   "id": "hundred-montreal",
   "metadata": {},
   "outputs": [],
   "source": []
  },
  {
   "cell_type": "code",
   "execution_count": null,
   "id": "rural-stopping",
   "metadata": {},
   "outputs": [],
   "source": []
  },
  {
   "cell_type": "code",
   "execution_count": null,
   "id": "olympic-bikini",
   "metadata": {},
   "outputs": [],
   "source": []
  }
 ],
 "metadata": {
  "kernelspec": {
   "display_name": "Python 3",
   "language": "python",
   "name": "python3"
  },
  "language_info": {
   "codemirror_mode": {
    "name": "ipython",
    "version": 3
   },
   "file_extension": ".py",
   "mimetype": "text/x-python",
   "name": "python",
   "nbconvert_exporter": "python",
   "pygments_lexer": "ipython3",
   "version": "3.8.3"
  }
 },
 "nbformat": 4,
 "nbformat_minor": 5
}
